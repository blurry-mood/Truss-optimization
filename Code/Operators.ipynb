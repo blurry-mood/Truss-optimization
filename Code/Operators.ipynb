{
 "cells": [
  {
   "cell_type": "code",
   "execution_count": 215,
   "metadata": {},
   "outputs": [
    {
     "data": {
      "text/plain": [
       "selection_operator (generic function with 1 method)"
      ]
     },
     "execution_count": 215,
     "metadata": {},
     "output_type": "execute_result"
    }
   ],
   "source": [
    "write(\"Selection Operators.jl\",In[IJulia.n])\n",
    "\n",
    "function roulette_wheel(p)\n",
    "    threshold=rand()*sum(p)\n",
    "    distrib=cumsum(p)\n",
    "    return findfirst(threshold.<=distrib)\n",
    "end\n",
    "\n",
    "function rank_selection(n)\n",
    "    # The population is supposed sorted: last=highest fitness\n",
    "    # n size of population\n",
    "    p=convert(Array,1:n)\n",
    "    @show p\n",
    "    i,j=roulette_wheel.([p, p])\n",
    "    return i,j\n",
    "end\n",
    "\n",
    "function fitness_proportionate_selection(fitnesses)\n",
    "   i,j=roulette_wheel.([fitnesses,fitnesses]) \n",
    "    return i,j\n",
    "end\n",
    "\n",
    "function selection_operator(fitnesses,proba)\n",
    "    # fitnesses are sorted: lowest to highest\n",
    "    operator=roulette_wheel(proba)\n",
    "    if operator==1\n",
    "       i,j=rank_selection(length(fitnesses)) \n",
    "    else\n",
    "        i,j=fitness_proportionate_selection(fitnesses)\n",
    "    end\n",
    "    return i,j\n",
    "end"
   ]
  },
  {
   "cell_type": "code",
   "execution_count": 213,
   "metadata": {},
   "outputs": [
    {
     "data": {
      "text/plain": [
       "crossover_operator (generic function with 1 method)"
      ]
     },
     "execution_count": 213,
     "metadata": {},
     "output_type": "execute_result"
    }
   ],
   "source": [
    "write(\"Crossover Operators.jl\",In[IJulia.n])\n",
    "\n",
    "include(\"Selection Operators.jl\")\n",
    "\n",
    "function horizontal_split(parent1,parent2)\n",
    "    split_at=rand(2:size(parent1,1))\n",
    "    offspring1=copy(parent1)\n",
    "    offspring2=copy(parent2)\n",
    "    offspring1[1:split_at-1,:]=parent2[1:split_at-1,:]\n",
    "    offspring2[1:split_at-1,:]=parent1[1:split_at-1,:]\n",
    "    return offspring1,offspring2\n",
    "end\n",
    "\n",
    "function vertical_split(parent1,parent2)\n",
    "    split_at=rand(2:size(parent1,1))\n",
    "    offspring1=copy(parent1)\n",
    "    offspring2=copy(parent2)\n",
    "    offspring1[:,1:split_at-1]=parent2[:,1:split_at-1]\n",
    "    offspring2[:,1:split_at-1]=parent1[:,1:split_at-1]\n",
    "    return offspring1,offspring2    \n",
    "end\n",
    "\n",
    "function uniform_crossover(parent1,parent2)\n",
    "    λ=rand()\n",
    "    offspring1=λ*parent1+(1-λ)*parent2\n",
    "    offspring2=λ*parent2+(1-λ)*parent1\n",
    "    return offspring1,offspring2    \n",
    "end\n",
    "\n",
    "crossover_operators=[uniform_crossover, vertical_split, horizontal_split]\n",
    "\n",
    "function crossover_operator(parent1,parent2,rate,proba)\n",
    "    if rand()<rate\n",
    "        i=roulette_wheel(proba)\n",
    "        parent1,parent2=crossover_operators[i](parent1,parent2)\n",
    "    end\n",
    "    return parent1,parent2\n",
    "end"
   ]
  },
  {
   "cell_type": "code",
   "execution_count": 214,
   "metadata": {},
   "outputs": [
    {
     "data": {
      "text/plain": [
       "mutation_operator (generic function with 1 method)"
      ]
     },
     "execution_count": 214,
     "metadata": {},
     "output_type": "execute_result"
    }
   ],
   "source": [
    "write(\"Mutation Operators.jl\",In[IJulia.n])\n",
    "\n",
    "function gaussian_perturbation(individual,rate)\n",
    "    n=size(individual,1)\n",
    "    pertu=randn(n,n).*(rand(n,n).<rate)\n",
    "    tmp=individual+pertu\n",
    "    return tmp.*(tmp.>=0)\n",
    "end\n",
    "\n",
    "function mutation_operator(individual,rate)\n",
    "    return gaussian_perturbation(individual,rate)\n",
    "end"
   ]
  },
  {
   "cell_type": "code",
   "execution_count": 163,
   "metadata": {},
   "outputs": [
    {
     "data": {
      "text/plain": [
       "4×4 Array{Float64,2}:\n",
       " 1.0  1.0  1.0  1.0\n",
       " 1.0  1.0  1.0  1.0\n",
       " 1.0  1.0  1.0  1.0\n",
       " 1.0  1.0  1.0  1.0"
      ]
     },
     "execution_count": 163,
     "metadata": {},
     "output_type": "execute_result"
    }
   ],
   "source": [
    "a=ones(4,4)"
   ]
  },
  {
   "cell_type": "code",
   "execution_count": 195,
   "metadata": {},
   "outputs": [
    {
     "data": {
      "text/plain": [
       "4×4 Array{Float64,2}:\n",
       " -0.0         1.00729   2.6788    -0.0\n",
       " -0.0         0.304917  1.61215    1.46331\n",
       "  0.249676    1.5166    2.23884   -0.0\n",
       "  0.0183441  -0.0       0.832279   2.33863"
      ]
     },
     "execution_count": 195,
     "metadata": {},
     "output_type": "execute_result"
    }
   ],
   "source": [
    "gaussian_perturbation(a,1)"
   ]
  },
  {
   "cell_type": "code",
   "execution_count": 207,
   "metadata": {},
   "outputs": [
    {
     "data": {
      "text/plain": [
       "Any[]"
      ]
     },
     "execution_count": 207,
     "metadata": {},
     "output_type": "execute_result"
    }
   ],
   "source": [
    "a=[]"
   ]
  },
  {
   "cell_type": "code",
   "execution_count": 208,
   "metadata": {},
   "outputs": [
    {
     "data": {
      "text/plain": [
       "2-element Array{Any,1}:\n",
       " 1\n",
       " 2"
      ]
     },
     "execution_count": 208,
     "metadata": {},
     "output_type": "execute_result"
    }
   ],
   "source": [
    "push!(a,1,2)"
   ]
  },
  {
   "cell_type": "code",
   "execution_count": null,
   "metadata": {},
   "outputs": [],
   "source": []
  }
 ],
 "metadata": {
  "kernelspec": {
   "display_name": "Julia 1.5.2",
   "language": "julia",
   "name": "julia-1.5"
  },
  "language_info": {
   "file_extension": ".jl",
   "mimetype": "application/julia",
   "name": "julia",
   "version": "1.5.2"
  }
 },
 "nbformat": 4,
 "nbformat_minor": 4
}
